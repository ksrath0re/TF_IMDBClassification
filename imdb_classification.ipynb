{
 "cells": [
  {
   "cell_type": "code",
   "execution_count": 3,
   "metadata": {
    "scrolled": true
   },
   "outputs": [
    {
     "name": "stdout",
     "output_type": "stream",
     "text": [
      "1.12.0\n"
     ]
    }
   ],
   "source": [
    "from __future__ import absolute_import, division, print_function\n",
    "import tensorflow as tf\n",
    "from tensorflow import keras\n",
    "\n",
    "import numpy as np\n",
    "import itertools\n",
    "\n",
    "print(tf.__version__)"
   ]
  },
  {
   "cell_type": "code",
   "execution_count": 4,
   "metadata": {},
   "outputs": [],
   "source": [
    "imdb = keras. datasets. imdb\n",
    "(training_data, training_label), (test_data, test_label) = imdb.load_data(num_words=10000)\n",
    "#The IMDB dataset comes packaged with TensorFlow. It has already been preprocessed such that the reviews \n",
    "#(sequences of words) have been converted to sequences of integers, where each integer represents a \n",
    "#specific word in a dictionary.\n"
   ]
  },
  {
   "cell_type": "code",
   "execution_count": 5,
   "metadata": {},
   "outputs": [
    {
     "name": "stdout",
     "output_type": "stream",
     "text": [
      "Training entries : 25000, labels: 25000\n"
     ]
    }
   ],
   "source": [
    "print(\"Training entries : {}, labels: {}\".format(len(training_data), len(training_data)))"
   ]
  },
  {
   "cell_type": "code",
   "execution_count": 6,
   "metadata": {},
   "outputs": [
    {
     "name": "stdout",
     "output_type": "stream",
     "text": [
      "[1, 14, 22, 16, 43, 530, 973, 1622, 1385, 65, 458, 4468, 66, 3941, 4, 173, 36, 256, 5, 25, 100, 43, 838, 112, 50, 670, 2, 9, 35, 480, 284, 5, 150, 4, 172, 112, 167, 2, 336, 385, 39, 4, 172, 4536, 1111, 17, 546, 38, 13, 447, 4, 192, 50, 16, 6, 147, 2025, 19, 14, 22, 4, 1920, 4613, 469, 4, 22, 71, 87, 12, 16, 43, 530, 38, 76, 15, 13, 1247, 4, 22, 17, 515, 17, 12, 16, 626, 18, 2, 5, 62, 386, 12, 8, 316, 8, 106, 5, 4, 2223, 5244, 16, 480, 66, 3785, 33, 4, 130, 12, 16, 38, 619, 5, 25, 124, 51, 36, 135, 48, 25, 1415, 33, 6, 22, 12, 215, 28, 77, 52, 5, 14, 407, 16, 82, 2, 8, 4, 107, 117, 5952, 15, 256, 4, 2, 7, 3766, 5, 723, 36, 71, 43, 530, 476, 26, 400, 317, 46, 7, 4, 2, 1029, 13, 104, 88, 4, 381, 15, 297, 98, 32, 2071, 56, 26, 141, 6, 194, 7486, 18, 4, 226, 22, 21, 134, 476, 26, 480, 5, 144, 30, 5535, 18, 51, 36, 28, 224, 92, 25, 104, 4, 226, 65, 16, 38, 1334, 88, 12, 16, 283, 5, 16, 4472, 113, 103, 32, 15, 16, 5345, 19, 178, 32]\n"
     ]
    }
   ],
   "source": [
    "#Let's test how review looks like in this processed data\n",
    "print(training_data[0])"
   ]
  },
  {
   "cell_type": "code",
   "execution_count": 7,
   "metadata": {},
   "outputs": [
    {
     "name": "stdout",
     "output_type": "stream",
     "text": [
      "218 129\n"
     ]
    }
   ],
   "source": [
    "print(len(training_data[0]), len(training_data[20]))"
   ]
  },
  {
   "cell_type": "code",
   "execution_count": 8,
   "metadata": {},
   "outputs": [
    {
     "name": "stdout",
     "output_type": "stream",
     "text": [
      "woods 1408\n",
      "wooden 1636\n",
      "kids 359\n",
      "want 178\n",
      "wrong 352\n",
      "fit 1180\n",
      "screaming 1927\n",
      "effects 299\n",
      "purpose 1285\n",
      "needed 884\n",
      "master 1297\n",
      "feeling 544\n",
      "cinematic 1357\n",
      "saying 657\n",
      "nicely 1777\n",
      "lots 772\n",
      "nature 873\n",
      "much 73\n",
      "had 66\n",
      "has 44\n",
      "bottom 1321\n",
      "starring 1181\n",
      "minute 783\n",
      "following 1042\n",
      "jim 1237\n",
      "seriously 612\n"
     ]
    }
   ],
   "source": [
    "temp = imdb.get_word_index()\n",
    "for key,value in list(temp.items())[0:1000]:\n",
    "    if temp[key] < 2000:\n",
    "        print(key, value)"
   ]
  },
  {
   "cell_type": "code",
   "execution_count": 9,
   "metadata": {},
   "outputs": [],
   "source": [
    "word_index = imdb.get_word_index()\n",
    "#let's reserve first 3 indices for dealing with NL stuff\n",
    "\n",
    "word_index = {key:(value+3) for key,value in word_index.items()}\n",
    "word_index[\"<PAD>\"] = 0\n",
    "word_index[\"<START>\"] = 1\n",
    "word_index[\"<UNKNOWN>\"] = 2\n",
    "word_index[\"<UNUSED>\"] = 3\n",
    "\n",
    "reverse_word_index = dict([(value, key) for key,value in word_index.items()])\n",
    "\n",
    "def decode_text_from_intarr(integerText):\n",
    "    return ' '.join(reverse_word_index.get(i, '?') for i in integerText)"
   ]
  },
  {
   "cell_type": "code",
   "execution_count": 10,
   "metadata": {},
   "outputs": [
    {
     "data": {
      "text/plain": [
       "\"<START> big hair big boobs bad music and a giant safety pin these are the words to best describe this terrible movie i love cheesy horror movies and i've seen hundreds but this had got to be on of the worst ever made the plot is paper thin and ridiculous the acting is an abomination the script is completely laughable the best is the end showdown with the cop and how he worked out who the killer is it's just so damn terribly written the clothes are sickening and funny in equal <UNKNOWN> the hair is big lots of boobs <UNKNOWN> men wear those cut <UNKNOWN> shirts that show off their <UNKNOWN> sickening that men actually wore them and the music is just <UNKNOWN> trash that plays over and over again in almost every scene there is trashy music boobs and <UNKNOWN> taking away bodies and the gym still doesn't close for <UNKNOWN> all joking aside this is a truly bad film whose only charm is to look back on the disaster that was the 80's and have a good old laugh at how bad everything was back then\""
      ]
     },
     "execution_count": 10,
     "metadata": {},
     "output_type": "execute_result"
    }
   ],
   "source": [
    "decode_text_from_intarr(training_data[1])"
   ]
  },
  {
   "cell_type": "code",
   "execution_count": 11,
   "metadata": {},
   "outputs": [],
   "source": [
    "training_data = keras.preprocessing.sequence.pad_sequences(training_data, value=word_index[\"<PAD>\"],padding='post',maxlen=256)\n",
    "test_data = keras.preprocessing.sequence.pad_sequences(test_data, value=word_index[\"<PAD>\"],padding='post',maxlen=256)"
   ]
  },
  {
   "cell_type": "code",
   "execution_count": 12,
   "metadata": {},
   "outputs": [
    {
     "name": "stdout",
     "output_type": "stream",
     "text": [
      "256 256\n"
     ]
    }
   ],
   "source": [
    "print(len(training_data[0]), len(training_data[0]))"
   ]
  },
  {
   "cell_type": "code",
   "execution_count": 13,
   "metadata": {},
   "outputs": [
    {
     "name": "stdout",
     "output_type": "stream",
     "text": [
      "_________________________________________________________________\n",
      "Layer (type)                 Output Shape              Param #   \n",
      "=================================================================\n",
      "embedding (Embedding)        (None, None, 16)          160000    \n",
      "_________________________________________________________________\n",
      "global_average_pooling1d (Gl (None, 16)                0         \n",
      "_________________________________________________________________\n",
      "dense (Dense)                (None, 16)                272       \n",
      "_________________________________________________________________\n",
      "dense_1 (Dense)              (None, 1)                 17        \n",
      "=================================================================\n",
      "Total params: 160,289\n",
      "Trainable params: 160,289\n",
      "Non-trainable params: 0\n",
      "_________________________________________________________________\n",
      "None\n"
     ]
    }
   ],
   "source": [
    "vocab_size = 10000\n",
    "model = keras.Sequential()\n",
    "model.add(keras.layers.Embedding(vocab_size, 16))\n",
    "model.add(keras.layers.GlobalAveragePooling1D())\n",
    "model.add(keras.layers.Dense(16,activation=tf.nn.relu))\n",
    "model.add(keras.layers.Dense(1, activation=tf.nn.sigmoid))\n",
    "\n",
    "print(model.summary())"
   ]
  },
  {
   "cell_type": "code",
   "execution_count": 14,
   "metadata": {},
   "outputs": [],
   "source": [
    "model.compile(optimizer='adam', loss='binary_crossentropy', metrics=['acc'])"
   ]
  },
  {
   "cell_type": "code",
   "execution_count": 15,
   "metadata": {},
   "outputs": [],
   "source": [
    "x_val = training_data[:10000]\n",
    "partial_x_train = training_data[10000:]\n",
    "\n",
    "y_val = training_label[:10000]\n",
    "partial_y_train = training_label[10000:]"
   ]
  },
  {
   "cell_type": "code",
   "execution_count": 16,
   "metadata": {},
   "outputs": [
    {
     "name": "stderr",
     "output_type": "stream",
     "text": [
      "C:\\Users\\ksrat\\Anaconda3\\lib\\site-packages\\tensorflow\\python\\ops\\gradients_impl.py:112: UserWarning: Converting sparse IndexedSlices to a dense Tensor of unknown shape. This may consume a large amount of memory.\n",
      "  \"Converting sparse IndexedSlices to a dense Tensor of unknown shape. \"\n"
     ]
    },
    {
     "name": "stdout",
     "output_type": "stream",
     "text": [
      "Train on 15000 samples, validate on 10000 samples\n",
      "Epoch 1/40\n",
      "15000/15000 [==============================] - 1s 77us/step - loss: 0.6921 - acc: 0.5723 - val_loss: 0.6903 - val_acc: 0.6587\n",
      "Epoch 2/40\n",
      "15000/15000 [==============================] - 0s 33us/step - loss: 0.6866 - acc: 0.6891 - val_loss: 0.6825 - val_acc: 0.7446\n",
      "Epoch 3/40\n",
      "15000/15000 [==============================] - 1s 37us/step - loss: 0.6746 - acc: 0.7619 - val_loss: 0.6675 - val_acc: 0.7551\n",
      "Epoch 4/40\n",
      "15000/15000 [==============================] - 1s 35us/step - loss: 0.6533 - acc: 0.7706 - val_loss: 0.6437 - val_acc: 0.7613\n",
      "Epoch 5/40\n",
      "15000/15000 [==============================] - 0s 33us/step - loss: 0.6218 - acc: 0.7933 - val_loss: 0.6097 - val_acc: 0.7856\n",
      "Epoch 6/40\n",
      "15000/15000 [==============================] - 0s 33us/step - loss: 0.5817 - acc: 0.8107 - val_loss: 0.5704 - val_acc: 0.8012\n",
      "Epoch 7/40\n",
      "15000/15000 [==============================] - 1s 34us/step - loss: 0.5363 - acc: 0.8283 - val_loss: 0.5286 - val_acc: 0.8185\n",
      "Epoch 8/40\n",
      "15000/15000 [==============================] - 0s 33us/step - loss: 0.4903 - acc: 0.8438 - val_loss: 0.4879 - val_acc: 0.8315\n",
      "Epoch 9/40\n",
      "15000/15000 [==============================] - 0s 33us/step - loss: 0.4474 - acc: 0.8552 - val_loss: 0.4515 - val_acc: 0.8412\n",
      "Epoch 10/40\n",
      "15000/15000 [==============================] - 0s 33us/step - loss: 0.4088 - acc: 0.8695 - val_loss: 0.4206 - val_acc: 0.8479\n",
      "Epoch 11/40\n",
      "15000/15000 [==============================] - 0s 33us/step - loss: 0.3760 - acc: 0.8780 - val_loss: 0.3972 - val_acc: 0.8530\n",
      "Epoch 12/40\n",
      "15000/15000 [==============================] - 0s 33us/step - loss: 0.3484 - acc: 0.8852 - val_loss: 0.3741 - val_acc: 0.8615\n",
      "Epoch 13/40\n",
      "15000/15000 [==============================] - 0s 33us/step - loss: 0.3237 - acc: 0.8923 - val_loss: 0.3578 - val_acc: 0.8658\n",
      "Epoch 14/40\n",
      "15000/15000 [==============================] - 0s 33us/step - loss: 0.3032 - acc: 0.8982 - val_loss: 0.3433 - val_acc: 0.8707\n",
      "Epoch 15/40\n",
      "15000/15000 [==============================] - 0s 33us/step - loss: 0.2854 - acc: 0.9029 - val_loss: 0.3321 - val_acc: 0.8728\n",
      "Epoch 16/40\n",
      "15000/15000 [==============================] - 0s 33us/step - loss: 0.2701 - acc: 0.9058 - val_loss: 0.3228 - val_acc: 0.8757\n",
      "Epoch 17/40\n",
      "15000/15000 [==============================] - 0s 33us/step - loss: 0.2555 - acc: 0.9125 - val_loss: 0.3151 - val_acc: 0.8757\n",
      "Epoch 18/40\n",
      "15000/15000 [==============================] - 0s 33us/step - loss: 0.2429 - acc: 0.9175 - val_loss: 0.3086 - val_acc: 0.8799\n",
      "Epoch 19/40\n",
      "15000/15000 [==============================] - 1s 33us/step - loss: 0.2312 - acc: 0.9208 - val_loss: 0.3033 - val_acc: 0.8819\n",
      "Epoch 20/40\n",
      "15000/15000 [==============================] - 1s 34us/step - loss: 0.2209 - acc: 0.9236 - val_loss: 0.2991 - val_acc: 0.8822\n",
      "Epoch 21/40\n",
      "15000/15000 [==============================] - 0s 33us/step - loss: 0.2108 - acc: 0.9283 - val_loss: 0.2953 - val_acc: 0.8818\n",
      "Epoch 22/40\n",
      "15000/15000 [==============================] - 1s 34us/step - loss: 0.2017 - acc: 0.9311 - val_loss: 0.2928 - val_acc: 0.8840\n",
      "Epoch 23/40\n",
      "15000/15000 [==============================] - 0s 33us/step - loss: 0.1933 - acc: 0.9348 - val_loss: 0.2907 - val_acc: 0.8841\n",
      "Epoch 24/40\n",
      "15000/15000 [==============================] - 1s 34us/step - loss: 0.1849 - acc: 0.9394 - val_loss: 0.2883 - val_acc: 0.8842\n",
      "Epoch 25/40\n",
      "15000/15000 [==============================] - 0s 33us/step - loss: 0.1775 - acc: 0.9427 - val_loss: 0.2869 - val_acc: 0.8849\n",
      "Epoch 26/40\n",
      "15000/15000 [==============================] - 1s 33us/step - loss: 0.1702 - acc: 0.9452 - val_loss: 0.2863 - val_acc: 0.8844\n",
      "Epoch 27/40\n",
      "15000/15000 [==============================] - 1s 34us/step - loss: 0.1641 - acc: 0.9487 - val_loss: 0.2860 - val_acc: 0.8853\n",
      "Epoch 28/40\n",
      "15000/15000 [==============================] - 0s 33us/step - loss: 0.1575 - acc: 0.9508 - val_loss: 0.2854 - val_acc: 0.8860\n",
      "Epoch 29/40\n",
      "15000/15000 [==============================] - 0s 33us/step - loss: 0.1515 - acc: 0.9523 - val_loss: 0.2853 - val_acc: 0.8861\n",
      "Epoch 30/40\n",
      "15000/15000 [==============================] - 0s 33us/step - loss: 0.1462 - acc: 0.9547 - val_loss: 0.2860 - val_acc: 0.8860\n",
      "Epoch 31/40\n",
      "15000/15000 [==============================] - 0s 33us/step - loss: 0.1401 - acc: 0.9582 - val_loss: 0.2869 - val_acc: 0.8850\n",
      "Epoch 32/40\n",
      "15000/15000 [==============================] - 0s 33us/step - loss: 0.1352 - acc: 0.9600 - val_loss: 0.2881 - val_acc: 0.8864\n",
      "Epoch 33/40\n",
      "15000/15000 [==============================] - 1s 33us/step - loss: 0.1297 - acc: 0.9621 - val_loss: 0.2895 - val_acc: 0.8863\n",
      "Epoch 34/40\n",
      "15000/15000 [==============================] - 1s 34us/step - loss: 0.1250 - acc: 0.9637 - val_loss: 0.2910 - val_acc: 0.8850\n",
      "Epoch 35/40\n",
      "15000/15000 [==============================] - 1s 37us/step - loss: 0.1208 - acc: 0.9653 - val_loss: 0.2925 - val_acc: 0.8853\n",
      "Epoch 36/40\n",
      "15000/15000 [==============================] - 1s 36us/step - loss: 0.1158 - acc: 0.9681 - val_loss: 0.2949 - val_acc: 0.8850\n",
      "Epoch 37/40\n",
      "15000/15000 [==============================] - 0s 33us/step - loss: 0.1118 - acc: 0.9689 - val_loss: 0.2973 - val_acc: 0.8855\n",
      "Epoch 38/40\n",
      "15000/15000 [==============================] - 1s 33us/step - loss: 0.1082 - acc: 0.9697 - val_loss: 0.2993 - val_acc: 0.8838\n",
      "Epoch 39/40\n",
      "15000/15000 [==============================] - 0s 33us/step - loss: 0.1037 - acc: 0.9715 - val_loss: 0.3015 - val_acc: 0.8843\n",
      "Epoch 40/40\n",
      "15000/15000 [==============================] - 0s 33us/step - loss: 0.0999 - acc: 0.9727 - val_loss: 0.3042 - val_acc: 0.8834\n"
     ]
    }
   ],
   "source": [
    "training_details = model.fit(partial_x_train, partial_y_train,epochs=40, batch_size=512, validation_data=(x_val, y_val), verbose=1)"
   ]
  },
  {
   "cell_type": "code",
   "execution_count": 17,
   "metadata": {},
   "outputs": [
    {
     "name": "stdout",
     "output_type": "stream",
     "text": [
      "25000/25000 [==============================] - 0s 19us/step\n",
      "[0.32359304673194883, 0.87236]\n"
     ]
    }
   ],
   "source": [
    "results = model.evaluate(test_data, test_label)\n",
    "print(results)"
   ]
  },
  {
   "cell_type": "code",
   "execution_count": 18,
   "metadata": {},
   "outputs": [
    {
     "name": "stdout",
     "output_type": "stream",
     "text": [
      "dict_keys(['val_loss', 'val_acc', 'loss', 'acc'])\n"
     ]
    }
   ],
   "source": [
    "history_dic = training_details.history\n",
    "print(history_dic.keys())"
   ]
  },
  {
   "cell_type": "code",
   "execution_count": 22,
   "metadata": {},
   "outputs": [
    {
     "data": {
      "image/png": "[encoded data removed]",
      "text/plain": [
       "<Figure size 432x288 with 1 Axes>"
      ]
     },
     "metadata": {
      "needs_background": "light"
     },
     "output_type": "display_data"
    }
   ],
   "source": [
    "import matplotlib.pyplot as p\n",
    "accuracy = history_dic['acc']\n",
    "val_acc = history_dic['val_acc']\n",
    "loss = history_dic['loss']\n",
    "val_loss = history_dic['val_loss']\n",
    "\n",
    "epochs = range(1,len(accuracy)+1)\n",
    "\n",
    "# \"bo\" is for \"blue dot\"\n",
    "p.plot(epochs, loss, 'bo', label='Training Loss')\n",
    "#b is for solid blue line\n",
    "p.plot(epochs, val_loss, 'b', label='Validation Loss')\n",
    "p.title('Training and Validation Loss')\n",
    "p.xlabel('Epochs')\n",
    "p.ylabel('Loss')\n",
    "p.legend()\n",
    "p.show()"
   ]
  },
  {
   "cell_type": "code",
   "execution_count": 24,
   "metadata": {},
   "outputs": [
    {
     "data": {
      "image/png": "[encoded data removed]",
      "text/plain": [
       "<Figure size 432x288 with 1 Axes>"
      ]
     },
     "metadata": {
      "needs_background": "light"
     },
     "output_type": "display_data"
    }
   ],
   "source": [
    "p.clf()\n",
    "\n",
    "p.plot(epochs, accuracy, 'bo', label='Training Accuracy')\n",
    "#b is for solid blue line\n",
    "p.plot(epochs, val_acc, 'b', label='Validation Accuracy')\n",
    "p.title('Training and Validation Accuracy')\n",
    "p.xlabel('Epochs')\n",
    "p.ylabel('Accuracy')\n",
    "p.legend()\n",
    "p.show()"
   ]
  }
 ],
 "metadata": {
  "kernelspec": {
   "display_name": "Python 3",
   "language": "python",
   "name": "python3"
  },
  "language_info": {
   "codemirror_mode": {
    "name": "ipython",
    "version": 3
   },
   "file_extension": ".py",
   "mimetype": "text/x-python",
   "name": "python",
   "nbconvert_exporter": "python",
   "pygments_lexer": "ipython3",
   "version": "3.6.8"
  }
 },
 "nbformat": 4,
 "nbformat_minor": 2
}
